{
 "cells": [
  {
   "cell_type": "code",
   "execution_count": 108,
   "metadata": {},
   "outputs": [],
   "source": [
    "import pandas as pd"
   ]
  },
  {
   "cell_type": "code",
   "execution_count": 109,
   "metadata": {},
   "outputs": [],
   "source": [
    "# public method: first row as header\n",
    "def firstRowToHeader(df):\n",
    "    new_header = df.iloc[0] #grab the first row for the header\n",
    "    df = df[1:] #take the data less the header row\n",
    "    df.columns = new_header #set the header row as the df header\n",
    "    return df"
   ]
  },
  {
   "cell_type": "code",
   "execution_count": 110,
   "metadata": {},
   "outputs": [],
   "source": [
    "df = pd.read_excel(\"../浙江工业大学/经济学/202203311113200895.xlsx\")\n",
    "df = firstRowToHeader(df)"
   ]
  },
  {
   "cell_type": "code",
   "execution_count": 111,
   "metadata": {},
   "outputs": [
    {
     "data": {
      "text/html": [
       "<div>\n",
       "<style scoped>\n",
       "    .dataframe tbody tr th:only-of-type {\n",
       "        vertical-align: middle;\n",
       "    }\n",
       "\n",
       "    .dataframe tbody tr th {\n",
       "        vertical-align: top;\n",
       "    }\n",
       "\n",
       "    .dataframe thead th {\n",
       "        text-align: right;\n",
       "    }\n",
       "</style>\n",
       "<table border=\"1\" class=\"dataframe\">\n",
       "  <thead>\n",
       "    <tr style=\"text-align: right;\">\n",
       "      <th></th>\n",
       "      <th>序号</th>\n",
       "      <th>复试批次</th>\n",
       "      <th>姓名</th>\n",
       "      <th>准考证号</th>\n",
       "      <th>复试专业代码和名称（或方向）</th>\n",
       "      <th>报考类别</th>\n",
       "      <th>学习方式</th>\n",
       "      <th>初试成绩</th>\n",
       "      <th>复试成绩</th>\n",
       "      <th>综合成绩</th>\n",
       "      <th>思想政治素质与品\\n德</th>\n",
       "      <th>备注</th>\n",
       "    </tr>\n",
       "  </thead>\n",
       "  <tbody>\n",
       "    <tr>\n",
       "      <th>1</th>\n",
       "      <td>1</td>\n",
       "      <td>一志愿考生</td>\n",
       "      <td>孙麟</td>\n",
       "      <td>103372210014352</td>\n",
       "      <td>020200应用经</td>\n",
       "      <td>非定向</td>\n",
       "      <td>全日制</td>\n",
       "      <td>418</td>\n",
       "      <td>86.6</td>\n",
       "      <td>84.8</td>\n",
       "      <td>合格</td>\n",
       "      <td>NaN</td>\n",
       "    </tr>\n",
       "    <tr>\n",
       "      <th>2</th>\n",
       "      <td>2</td>\n",
       "      <td>一志愿考生</td>\n",
       "      <td>朱婕</td>\n",
       "      <td>103372210010933</td>\n",
       "      <td>020200应用经</td>\n",
       "      <td>非定向</td>\n",
       "      <td>全日制</td>\n",
       "      <td>409</td>\n",
       "      <td>88.2</td>\n",
       "      <td>84.36</td>\n",
       "      <td>合格</td>\n",
       "      <td>NaN</td>\n",
       "    </tr>\n",
       "    <tr>\n",
       "      <th>3</th>\n",
       "      <td>3</td>\n",
       "      <td>一志愿考生</td>\n",
       "      <td>杨铭杰</td>\n",
       "      <td>103372210006306</td>\n",
       "      <td>020200应用经</td>\n",
       "      <td>非定向</td>\n",
       "      <td>全日制</td>\n",
       "      <td>411</td>\n",
       "      <td>87.4</td>\n",
       "      <td>84.28</td>\n",
       "      <td>合格</td>\n",
       "      <td>NaN</td>\n",
       "    </tr>\n",
       "    <tr>\n",
       "      <th>4</th>\n",
       "      <td>4</td>\n",
       "      <td>一志愿考生</td>\n",
       "      <td>石柔刚</td>\n",
       "      <td>103372210006303</td>\n",
       "      <td>020200应用经</td>\n",
       "      <td>非定向</td>\n",
       "      <td>全日制</td>\n",
       "      <td>407</td>\n",
       "      <td>88.2</td>\n",
       "      <td>84.12</td>\n",
       "      <td>合格</td>\n",
       "      <td>NaN</td>\n",
       "    </tr>\n",
       "    <tr>\n",
       "      <th>5</th>\n",
       "      <td>5</td>\n",
       "      <td>一志愿考生</td>\n",
       "      <td>仲星宇</td>\n",
       "      <td>103372210006317</td>\n",
       "      <td>020200应用经</td>\n",
       "      <td>非定向</td>\n",
       "      <td>全日制</td>\n",
       "      <td>393</td>\n",
       "      <td>90.8</td>\n",
       "      <td>83.48</td>\n",
       "      <td>合格</td>\n",
       "      <td>NaN</td>\n",
       "    </tr>\n",
       "  </tbody>\n",
       "</table>\n",
       "</div>"
      ],
      "text/plain": [
       "0 序号   复试批次   姓名             准考证号 复试专业代码和名称（或方向） 报考类别 学习方式 初试成绩  复试成绩   综合成绩  \\\n",
       "1  1  一志愿考生   孙麟  103372210014352      020200应用经  非定向  全日制  418  86.6   84.8   \n",
       "2  2  一志愿考生   朱婕  103372210010933      020200应用经  非定向  全日制  409  88.2  84.36   \n",
       "3  3  一志愿考生  杨铭杰  103372210006306      020200应用经  非定向  全日制  411  87.4  84.28   \n",
       "4  4  一志愿考生  石柔刚  103372210006303      020200应用经  非定向  全日制  407  88.2  84.12   \n",
       "5  5  一志愿考生  仲星宇  103372210006317      020200应用经  非定向  全日制  393  90.8  83.48   \n",
       "\n",
       "0 思想政治素质与品\\n德   备注  \n",
       "1          合格  NaN  \n",
       "2          合格  NaN  \n",
       "3          合格  NaN  \n",
       "4          合格  NaN  \n",
       "5          合格  NaN  "
      ]
     },
     "execution_count": 111,
     "metadata": {},
     "output_type": "execute_result"
    }
   ],
   "source": [
    "df[:5]"
   ]
  },
  {
   "cell_type": "code",
   "execution_count": 112,
   "metadata": {},
   "outputs": [
    {
     "data": {
      "text/plain": [
       "Index(['序号', '复试批次', '姓名', '准考证号', '复试专业代码和名称（或方向）', '报考类别', '学习方式', '初试成绩',\n",
       "       '复试成绩', '综合成绩', '思想政治素质与品\\n德', '备注'],\n",
       "      dtype='object', name=0)"
      ]
     },
     "execution_count": 112,
     "metadata": {},
     "output_type": "execute_result"
    }
   ],
   "source": [
    "df.columns"
   ]
  },
  {
   "cell_type": "code",
   "execution_count": 113,
   "metadata": {},
   "outputs": [
    {
     "name": "stdout",
     "output_type": "stream",
     "text": [
      "<class 'pandas.core.frame.DataFrame'>\n",
      "RangeIndex: 46 entries, 1 to 46\n",
      "Data columns (total 12 columns):\n",
      " #   Column          Non-Null Count  Dtype \n",
      "---  ------          --------------  ----- \n",
      " 0   序号              46 non-null     object\n",
      " 1   复试批次            46 non-null     object\n",
      " 2   姓名              46 non-null     object\n",
      " 3   准考证号            46 non-null     object\n",
      " 4   复试专业代码和名称（或方向）  46 non-null     object\n",
      " 5   报考类别            46 non-null     object\n",
      " 6   学习方式            46 non-null     object\n",
      " 7   初试成绩            46 non-null     object\n",
      " 8   复试成绩            46 non-null     object\n",
      " 9   综合成绩            46 non-null     object\n",
      " 10  思想政治素质与品\n",
      "德      46 non-null     object\n",
      " 11  备注              0 non-null      object\n",
      "dtypes: object(12)\n",
      "memory usage: 4.4+ KB\n"
     ]
    }
   ],
   "source": [
    "df.info()"
   ]
  },
  {
   "cell_type": "code",
   "execution_count": 116,
   "metadata": {},
   "outputs": [
    {
     "name": "stdout",
     "output_type": "stream",
     "text": [
      "0\n",
      "序号                  int64\n",
      "复试批次               object\n",
      "姓名                 object\n",
      "准考证号                int64\n",
      "复试专业代码和名称（或方向）     object\n",
      "报考类别               object\n",
      "学习方式               object\n",
      "初试成绩                int64\n",
      "复试成绩              float64\n",
      "综合成绩              float64\n",
      "思想政治素质与品\\n德        object\n",
      "备注                float64\n",
      "dtype: object\n"
     ]
    },
    {
     "data": {
      "text/html": [
       "<div>\n",
       "<style scoped>\n",
       "    .dataframe tbody tr th:only-of-type {\n",
       "        vertical-align: middle;\n",
       "    }\n",
       "\n",
       "    .dataframe tbody tr th {\n",
       "        vertical-align: top;\n",
       "    }\n",
       "\n",
       "    .dataframe thead th {\n",
       "        text-align: right;\n",
       "    }\n",
       "</style>\n",
       "<table border=\"1\" class=\"dataframe\">\n",
       "  <thead>\n",
       "    <tr style=\"text-align: right;\">\n",
       "      <th></th>\n",
       "      <th>count</th>\n",
       "      <th>mean</th>\n",
       "      <th>std</th>\n",
       "      <th>min</th>\n",
       "      <th>25%</th>\n",
       "      <th>50%</th>\n",
       "      <th>75%</th>\n",
       "      <th>max</th>\n",
       "    </tr>\n",
       "    <tr>\n",
       "      <th>复试专业代码和名称（或方向）</th>\n",
       "      <th></th>\n",
       "      <th></th>\n",
       "      <th></th>\n",
       "      <th></th>\n",
       "      <th></th>\n",
       "      <th></th>\n",
       "      <th></th>\n",
       "      <th></th>\n",
       "    </tr>\n",
       "  </thead>\n",
       "  <tbody>\n",
       "    <tr>\n",
       "      <th>020200应用经</th>\n",
       "      <td>46.0</td>\n",
       "      <td>384.391304</td>\n",
       "      <td>17.759477</td>\n",
       "      <td>360.0</td>\n",
       "      <td>369.5</td>\n",
       "      <td>383.0</td>\n",
       "      <td>398.5</td>\n",
       "      <td>421.0</td>\n",
       "    </tr>\n",
       "  </tbody>\n",
       "</table>\n",
       "</div>"
      ],
      "text/plain": [
       "                count        mean        std    min    25%    50%    75%  \\\n",
       "复试专业代码和名称（或方向）                                                             \n",
       "020200应用经        46.0  384.391304  17.759477  360.0  369.5  383.0  398.5   \n",
       "\n",
       "                  max  \n",
       "复试专业代码和名称（或方向）         \n",
       "020200应用经       421.0  "
      ]
     },
     "execution_count": 116,
     "metadata": {},
     "output_type": "execute_result"
    }
   ],
   "source": [
    "df = df.infer_objects()\n",
    "print(df.dtypes)\n",
    "df.groupby(by=['复试专业代码和名称（或方向）'])['初试成绩'].describe()"
   ]
  },
  {
   "cell_type": "code",
   "execution_count": 115,
   "metadata": {},
   "outputs": [
    {
     "data": {
      "text/html": [
       "<div>\n",
       "<style scoped>\n",
       "    .dataframe tbody tr th:only-of-type {\n",
       "        vertical-align: middle;\n",
       "    }\n",
       "\n",
       "    .dataframe tbody tr th {\n",
       "        vertical-align: top;\n",
       "    }\n",
       "\n",
       "    .dataframe thead th {\n",
       "        text-align: right;\n",
       "    }\n",
       "</style>\n",
       "<table border=\"1\" class=\"dataframe\">\n",
       "  <thead>\n",
       "    <tr style=\"text-align: right;\">\n",
       "      <th></th>\n",
       "      <th>初试成绩</th>\n",
       "    </tr>\n",
       "  </thead>\n",
       "  <tbody>\n",
       "    <tr>\n",
       "      <th>count</th>\n",
       "      <td>46.000000</td>\n",
       "    </tr>\n",
       "    <tr>\n",
       "      <th>mean</th>\n",
       "      <td>384.391304</td>\n",
       "    </tr>\n",
       "    <tr>\n",
       "      <th>std</th>\n",
       "      <td>17.759477</td>\n",
       "    </tr>\n",
       "    <tr>\n",
       "      <th>min</th>\n",
       "      <td>360.000000</td>\n",
       "    </tr>\n",
       "    <tr>\n",
       "      <th>25%</th>\n",
       "      <td>369.500000</td>\n",
       "    </tr>\n",
       "    <tr>\n",
       "      <th>50%</th>\n",
       "      <td>383.000000</td>\n",
       "    </tr>\n",
       "    <tr>\n",
       "      <th>75%</th>\n",
       "      <td>398.500000</td>\n",
       "    </tr>\n",
       "    <tr>\n",
       "      <th>max</th>\n",
       "      <td>421.000000</td>\n",
       "    </tr>\n",
       "  </tbody>\n",
       "</table>\n",
       "</div>"
      ],
      "text/plain": [
       "             初试成绩\n",
       "count   46.000000\n",
       "mean   384.391304\n",
       "std     17.759477\n",
       "min    360.000000\n",
       "25%    369.500000\n",
       "50%    383.000000\n",
       "75%    398.500000\n",
       "max    421.000000"
      ]
     },
     "execution_count": 115,
     "metadata": {},
     "output_type": "execute_result"
    }
   ],
   "source": [
    "df_1 = df['初试成绩'].astype(float)\n",
    "pd.DataFrame(df_1.describe(include='all'))"
   ]
  }
 ],
 "metadata": {
  "kernelspec": {
   "display_name": "Python 3.9.13 ('image_processing_2022')",
   "language": "python",
   "name": "python3"
  },
  "language_info": {
   "codemirror_mode": {
    "name": "ipython",
    "version": 3
   },
   "file_extension": ".py",
   "mimetype": "text/x-python",
   "name": "python",
   "nbconvert_exporter": "python",
   "pygments_lexer": "ipython3",
   "version": "3.9.13"
  },
  "orig_nbformat": 4,
  "vscode": {
   "interpreter": {
    "hash": "f28302999f76678ff88a38a68a5d8fe3c7eae3a79776041100a48b41199f2d76"
   }
  }
 },
 "nbformat": 4,
 "nbformat_minor": 2
}
