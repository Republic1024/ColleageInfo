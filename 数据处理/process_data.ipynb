{
 "cells": [
  {
   "cell_type": "code",
   "execution_count": 122,
   "metadata": {},
   "outputs": [],
   "source": [
    "import pandas as pd"
   ]
  },
  {
   "cell_type": "code",
   "execution_count": 123,
   "metadata": {},
   "outputs": [],
   "source": [
    "df = pd.read_excel(\"/Users/republic/考研信息/浙江工业大学/计算机学院各专业2022年硕士研究生复试考生名单.xlsx\")"
   ]
  },
  {
   "cell_type": "code",
   "execution_count": 124,
   "metadata": {},
   "outputs": [
    {
     "data": {
      "text/html": [
       "<div>\n",
       "<style scoped>\n",
       "    .dataframe tbody tr th:only-of-type {\n",
       "        vertical-align: middle;\n",
       "    }\n",
       "\n",
       "    .dataframe tbody tr th {\n",
       "        vertical-align: top;\n",
       "    }\n",
       "\n",
       "    .dataframe thead th {\n",
       "        text-align: right;\n",
       "    }\n",
       "</style>\n",
       "<table border=\"1\" class=\"dataframe\">\n",
       "  <thead>\n",
       "    <tr style=\"text-align: right;\">\n",
       "      <th></th>\n",
       "      <th>序号</th>\n",
       "      <th>考生类型</th>\n",
       "      <th>学生代码</th>\n",
       "      <th>姓名</th>\n",
       "      <th>第一志愿</th>\n",
       "      <th>大类专业</th>\n",
       "      <th>录取专业</th>\n",
       "      <th>专业类型</th>\n",
       "      <th>外语</th>\n",
       "      <th>政治</th>\n",
       "      <th>业务课一</th>\n",
       "      <th>业务课二</th>\n",
       "      <th>总分</th>\n",
       "      <th>录取代码</th>\n",
       "    </tr>\n",
       "  </thead>\n",
       "  <tbody>\n",
       "    <tr>\n",
       "      <th>0</th>\n",
       "      <td>1</td>\n",
       "      <td>第一批一志愿考生</td>\n",
       "      <td>103372210006660</td>\n",
       "      <td>陈天涯</td>\n",
       "      <td>浙江工业大学</td>\n",
       "      <td>081200计算机科学与技术</td>\n",
       "      <td>081200计算机科学与技术</td>\n",
       "      <td>全日制</td>\n",
       "      <td>80</td>\n",
       "      <td>73</td>\n",
       "      <td>110</td>\n",
       "      <td>120</td>\n",
       "      <td>383</td>\n",
       "      <td>ZG0812-001</td>\n",
       "    </tr>\n",
       "    <tr>\n",
       "      <th>1</th>\n",
       "      <td>2</td>\n",
       "      <td>第一批一志愿考生</td>\n",
       "      <td>103372210009385</td>\n",
       "      <td>伊秋华</td>\n",
       "      <td>浙江工业大学</td>\n",
       "      <td>081200计算机科学与技术</td>\n",
       "      <td>081200计算机科学与技术</td>\n",
       "      <td>全日制</td>\n",
       "      <td>74</td>\n",
       "      <td>66</td>\n",
       "      <td>111</td>\n",
       "      <td>130</td>\n",
       "      <td>381</td>\n",
       "      <td>ZG0812-002</td>\n",
       "    </tr>\n",
       "    <tr>\n",
       "      <th>2</th>\n",
       "      <td>3</td>\n",
       "      <td>第一批一志愿考生</td>\n",
       "      <td>103372210006633</td>\n",
       "      <td>吴康惠</td>\n",
       "      <td>浙江工业大学</td>\n",
       "      <td>081200计算机科学与技术</td>\n",
       "      <td>081200计算机科学与技术</td>\n",
       "      <td>全日制</td>\n",
       "      <td>78</td>\n",
       "      <td>66</td>\n",
       "      <td>117</td>\n",
       "      <td>120</td>\n",
       "      <td>381</td>\n",
       "      <td>ZG0812-003</td>\n",
       "    </tr>\n",
       "    <tr>\n",
       "      <th>3</th>\n",
       "      <td>4</td>\n",
       "      <td>第一批一志愿考生</td>\n",
       "      <td>103372210009382</td>\n",
       "      <td>严涵婷</td>\n",
       "      <td>浙江工业大学</td>\n",
       "      <td>081200计算机科学与技术</td>\n",
       "      <td>081200计算机科学与技术</td>\n",
       "      <td>全日制</td>\n",
       "      <td>77</td>\n",
       "      <td>77</td>\n",
       "      <td>99</td>\n",
       "      <td>121</td>\n",
       "      <td>374</td>\n",
       "      <td>ZG0812-004</td>\n",
       "    </tr>\n",
       "    <tr>\n",
       "      <th>4</th>\n",
       "      <td>5</td>\n",
       "      <td>第一批一志愿考生</td>\n",
       "      <td>103372210006653</td>\n",
       "      <td>沈哲辉</td>\n",
       "      <td>浙江工业大学</td>\n",
       "      <td>081200计算机科学与技术</td>\n",
       "      <td>081200计算机科学与技术</td>\n",
       "      <td>全日制</td>\n",
       "      <td>69</td>\n",
       "      <td>73</td>\n",
       "      <td>128</td>\n",
       "      <td>104</td>\n",
       "      <td>374</td>\n",
       "      <td>ZG0812-005</td>\n",
       "    </tr>\n",
       "  </tbody>\n",
       "</table>\n",
       "</div>"
      ],
      "text/plain": [
       "   序号      考生类型             学生代码   姓名    第一志愿            大类专业            录取专业  \\\n",
       "0   1  第一批一志愿考生  103372210006660  陈天涯  浙江工业大学  081200计算机科学与技术  081200计算机科学与技术   \n",
       "1   2  第一批一志愿考生  103372210009385  伊秋华  浙江工业大学  081200计算机科学与技术  081200计算机科学与技术   \n",
       "2   3  第一批一志愿考生  103372210006633  吴康惠  浙江工业大学  081200计算机科学与技术  081200计算机科学与技术   \n",
       "3   4  第一批一志愿考生  103372210009382  严涵婷  浙江工业大学  081200计算机科学与技术  081200计算机科学与技术   \n",
       "4   5  第一批一志愿考生  103372210006653  沈哲辉  浙江工业大学  081200计算机科学与技术  081200计算机科学与技术   \n",
       "\n",
       "  专业类型  外语  政治  业务课一  业务课二   总分        录取代码  \n",
       "0  全日制  80  73   110   120  383  ZG0812-001  \n",
       "1  全日制  74  66   111   130  381  ZG0812-002  \n",
       "2  全日制  78  66   117   120  381  ZG0812-003  \n",
       "3  全日制  77  77    99   121  374  ZG0812-004  \n",
       "4  全日制  69  73   128   104  374  ZG0812-005  "
      ]
     },
     "execution_count": 124,
     "metadata": {},
     "output_type": "execute_result"
    }
   ],
   "source": [
    "df[:5]"
   ]
  },
  {
   "cell_type": "code",
   "execution_count": 125,
   "metadata": {},
   "outputs": [
    {
     "data": {
      "text/plain": [
       "Index(['序号', '考生类型', '学生代码', '姓名', '第一志愿', '大类专业', '录取专业', '专业类型', '外语', '政治',\n",
       "       '业务课一', '业务课二', '总分', '录取代码'],\n",
       "      dtype='object')"
      ]
     },
     "execution_count": 125,
     "metadata": {},
     "output_type": "execute_result"
    }
   ],
   "source": [
    "df.columns"
   ]
  },
  {
   "cell_type": "code",
   "execution_count": 126,
   "metadata": {},
   "outputs": [],
   "source": [
    "\n",
    "# pattern=r'^((?!士兵专项).)*$'\n",
    "# df[df['录取代码'].str.extract(pattern)]\n",
    "df = df[~df['录取代码'].str.contains('士兵')]"
   ]
  },
  {
   "cell_type": "code",
   "execution_count": 127,
   "metadata": {},
   "outputs": [
    {
     "name": "stdout",
     "output_type": "stream",
     "text": [
      "<class 'pandas.core.frame.DataFrame'>\n",
      "Int64Index: 390 entries, 0 to 389\n",
      "Data columns (total 14 columns):\n",
      " #   Column  Non-Null Count  Dtype \n",
      "---  ------  --------------  ----- \n",
      " 0   序号      390 non-null    int64 \n",
      " 1   考生类型    390 non-null    object\n",
      " 2   学生代码    390 non-null    int64 \n",
      " 3   姓名      390 non-null    object\n",
      " 4   第一志愿    390 non-null    object\n",
      " 5   大类专业    390 non-null    object\n",
      " 6   录取专业    390 non-null    object\n",
      " 7   专业类型    390 non-null    object\n",
      " 8   外语      390 non-null    int64 \n",
      " 9   政治      390 non-null    int64 \n",
      " 10  业务课一    390 non-null    int64 \n",
      " 11  业务课二    390 non-null    int64 \n",
      " 12  总分      390 non-null    int64 \n",
      " 13  录取代码    390 non-null    object\n",
      "dtypes: int64(7), object(7)\n",
      "memory usage: 45.7+ KB\n"
     ]
    }
   ],
   "source": [
    "df.info()"
   ]
  },
  {
   "cell_type": "code",
   "execution_count": 134,
   "metadata": {},
   "outputs": [
    {
     "data": {
      "text/html": [
       "<div>\n",
       "<style scoped>\n",
       "    .dataframe tbody tr th:only-of-type {\n",
       "        vertical-align: middle;\n",
       "    }\n",
       "\n",
       "    .dataframe tbody tr th {\n",
       "        vertical-align: top;\n",
       "    }\n",
       "\n",
       "    .dataframe thead th {\n",
       "        text-align: right;\n",
       "    }\n",
       "</style>\n",
       "<table border=\"1\" class=\"dataframe\">\n",
       "  <thead>\n",
       "    <tr style=\"text-align: right;\">\n",
       "      <th></th>\n",
       "      <th>count</th>\n",
       "      <th>mean</th>\n",
       "      <th>std</th>\n",
       "      <th>min</th>\n",
       "      <th>25%</th>\n",
       "      <th>50%</th>\n",
       "      <th>75%</th>\n",
       "      <th>max</th>\n",
       "    </tr>\n",
       "    <tr>\n",
       "      <th>录取专业</th>\n",
       "      <th></th>\n",
       "      <th></th>\n",
       "      <th></th>\n",
       "      <th></th>\n",
       "      <th></th>\n",
       "      <th></th>\n",
       "      <th></th>\n",
       "      <th></th>\n",
       "    </tr>\n",
       "  </thead>\n",
       "  <tbody>\n",
       "    <tr>\n",
       "      <th>081200计算机科学与技术</th>\n",
       "      <td>97.0</td>\n",
       "      <td>330.185567</td>\n",
       "      <td>21.762128</td>\n",
       "      <td>300.0</td>\n",
       "      <td>313.0</td>\n",
       "      <td>327.0</td>\n",
       "      <td>345.0</td>\n",
       "      <td>383.0</td>\n",
       "    </tr>\n",
       "    <tr>\n",
       "      <th>083500软件工程</th>\n",
       "      <td>41.0</td>\n",
       "      <td>317.365854</td>\n",
       "      <td>19.852904</td>\n",
       "      <td>284.0</td>\n",
       "      <td>302.0</td>\n",
       "      <td>320.0</td>\n",
       "      <td>329.0</td>\n",
       "      <td>360.0</td>\n",
       "    </tr>\n",
       "    <tr>\n",
       "      <th>085400电子信息</th>\n",
       "      <td>252.0</td>\n",
       "      <td>360.456349</td>\n",
       "      <td>18.752797</td>\n",
       "      <td>318.0</td>\n",
       "      <td>350.0</td>\n",
       "      <td>360.0</td>\n",
       "      <td>372.0</td>\n",
       "      <td>407.0</td>\n",
       "    </tr>\n",
       "  </tbody>\n",
       "</table>\n",
       "</div>"
      ],
      "text/plain": [
       "                count        mean        std    min    25%    50%    75%  \\\n",
       "录取专业                                                                       \n",
       "081200计算机科学与技术   97.0  330.185567  21.762128  300.0  313.0  327.0  345.0   \n",
       "083500软件工程       41.0  317.365854  19.852904  284.0  302.0  320.0  329.0   \n",
       "085400电子信息      252.0  360.456349  18.752797  318.0  350.0  360.0  372.0   \n",
       "\n",
       "                  max  \n",
       "录取专业                   \n",
       "081200计算机科学与技术  383.0  \n",
       "083500软件工程      360.0  \n",
       "085400电子信息      407.0  "
      ]
     },
     "execution_count": 134,
     "metadata": {},
     "output_type": "execute_result"
    }
   ],
   "source": [
    "df_1 = df.groupby(by=['录取专业'])['总分'].describe()\n",
    "df_1.to_excel(\"各专业分数情况.xlsx\")\n",
    "df_1"
   ]
  },
  {
   "cell_type": "code",
   "execution_count": 130,
   "metadata": {},
   "outputs": [
    {
     "name": "stdout",
     "output_type": "stream",
     "text": [
      "[NbConvertApp] Converting notebook process_data.ipynb to markdown\n",
      "[NbConvertApp] Writing 5349 bytes to process_data.md\n"
     ]
    }
   ],
   "source": [
    "!jupyter nbconvert --to markdown process_data.ipynb "
   ]
  }
 ],
 "metadata": {
  "kernelspec": {
   "display_name": "Python 3.9.13 ('image_processing_2022')",
   "language": "python",
   "name": "python3"
  },
  "language_info": {
   "codemirror_mode": {
    "name": "ipython",
    "version": 3
   },
   "file_extension": ".py",
   "mimetype": "text/x-python",
   "name": "python",
   "nbconvert_exporter": "python",
   "pygments_lexer": "ipython3",
   "version": "3.9.13"
  },
  "orig_nbformat": 4,
  "vscode": {
   "interpreter": {
    "hash": "f28302999f76678ff88a38a68a5d8fe3c7eae3a79776041100a48b41199f2d76"
   }
  }
 },
 "nbformat": 4,
 "nbformat_minor": 2
}
