{
 "cells": [
  {
   "cell_type": "code",
   "execution_count": 29,
   "metadata": {},
   "outputs": [
    {
     "name": "stdout",
     "output_type": "stream",
     "text": [
      "[main 33b35a9] first commit\n",
      " 5 files changed, 81 insertions(+), 120 deletions(-)\n",
      " rewrite git.ipynb (64%)\n",
      " delete mode 100644 \"\\346\\265\\231\\346\\261\\237\\347\\220\\206\\345\\267\\245\\345\\244\\247\\345\\255\\246/~$2022\\345\\271\\264\\344\\277\\241\\346\\201\\257\\345\\255\\246\\351\\231\\242\\347\\241\\225\\345\\243\\253\\347\\240\\224\\347\\251\\266\\347\\224\\237\\346\\213\\233\\347\\224\\237\\344\\270\\200\\345\\277\\227\\346\\204\\277\\350\\200\\203\\347\\224\\237\\345\\276\\205\\345\\275\\225\\345\\217\\226\\345\\220\\215\\345\\215\\225.xlsx\"\n",
      "Enumerating objects: 15, done.\n",
      "Counting objects: 100% (15/15), done.\n",
      "Delta compression using up to 8 threads\n",
      "Compressing objects: 100% (8/8), done.\n",
      "Writing objects: 100% (8/8), 1.13 KiB | 1.13 MiB/s, done.\n",
      "Total 8 (delta 6), reused 0 (delta 0), pack-reused 0\n",
      "remote: Resolving deltas: 100% (6/6), completed with 6 local objects.\u001b[K\n",
      "To github.com:Republic1024/ColleageInfo.git\n",
      "   515b130..33b35a9  main -> main\n",
      "Branch 'main' set up to track remote branch 'main' from 'origin'.\n"
     ]
    }
   ],
   "source": [
    "!git add .\n",
    "!git commit -m \"first commit\"\n",
    "!git push -u origin main"
   ]
  }
 ],
 "metadata": {
  "kernelspec": {
   "display_name": "Python 3.9.13 ('image_processing_2022')",
   "language": "python",
   "name": "python3"
  },
  "language_info": {
   "codemirror_mode": {
    "name": "ipython",
    "version": 3
   },
   "file_extension": ".py",
   "mimetype": "text/x-python",
   "name": "python",
   "nbconvert_exporter": "python",
   "pygments_lexer": "ipython3",
   "version": "3.9.13"
  },
  "orig_nbformat": 4,
  "vscode": {
   "interpreter": {
    "hash": "f28302999f76678ff88a38a68a5d8fe3c7eae3a79776041100a48b41199f2d76"
   }
  }
 },
 "nbformat": 4,
 "nbformat_minor": 2
}
