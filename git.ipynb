{
 "cells": [
  {
   "cell_type": "code",
   "execution_count": 28,
   "metadata": {},
   "outputs": [
    {
     "name": "stdout",
     "output_type": "stream",
     "text": [
      "Reinitialized existing Git repository in /Users/republic/考研信息/.git/\n",
      "[main 515b130] first commit\n",
      " 1 file changed, 104 insertions(+)\n",
      "Enumerating objects: 39, done.\n",
      "Counting objects: 100% (39/39), done.\n",
      "Delta compression using up to 8 threads\n",
      "Compressing objects: 100% (36/36), done.\n",
      "Writing objects: 100% (39/39), 6.28 MiB | 547.00 KiB/s, done.\n",
      "Total 39 (delta 12), reused 0 (delta 0), pack-reused 0\n",
      "remote: Resolving deltas: 100% (12/12), done.\u001b[K\n",
      "To github.com:Republic1024/ColleageInfo.git\n",
      " * [new branch]      main -> main\n",
      "Branch 'main' set up to track remote branch 'main' from 'origin'.\n"
     ]
    }
   ],
   "source": [
    "\n",
    "!git add .\n",
    "!git commit -m \"first commit\"\n",
    "!git push -u origin main"
   ]
  }
 ],
 "metadata": {
  "kernelspec": {
   "display_name": "Python 3.9.13 ('image_processing_2022')",
   "language": "python",
   "name": "python3"
  },
  "language_info": {
   "codemirror_mode": {
    "name": "ipython",
    "version": 3
   },
   "file_extension": ".py",
   "mimetype": "text/x-python",
   "name": "python",
   "nbconvert_exporter": "python",
   "pygments_lexer": "ipython3",
   "version": "3.9.13"
  },
  "orig_nbformat": 4,
  "vscode": {
   "interpreter": {
    "hash": "f28302999f76678ff88a38a68a5d8fe3c7eae3a79776041100a48b41199f2d76"
   }
  }
 },
 "nbformat": 4,
 "nbformat_minor": 2
}
