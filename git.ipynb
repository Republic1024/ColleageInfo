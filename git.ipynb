{
 "cells": [
  {
   "cell_type": "code",
   "execution_count": 5,
   "metadata": {},
   "outputs": [
    {
     "name": "stdout",
     "output_type": "stream",
     "text": [
      "[main f984453] first commit\n",
      " 2 files changed, 0 insertions(+), 0 deletions(-)\n",
      " create mode 100644 \"\\346\\265\\231\\346\\261\\237\\345\\244\\247\\345\\255\\246/\\350\\256\\241\\347\\256\\227\\346\\234\\272/09076dc6-ebaf-4f7e-909c-0de13d25ec6e.pdf\"\n",
      "Enumerating objects: 9, done.\n",
      "Counting objects: 100% (9/9), done.\n",
      "Delta compression using up to 8 threads\n",
      "Compressing objects: 100% (6/6), done.\n",
      "Writing objects: 100% (6/6), 247.65 KiB | 754.00 KiB/s, done.\n",
      "Total 6 (delta 2), reused 0 (delta 0), pack-reused 0\n",
      "remote: Resolving deltas: 100% (2/2), completed with 2 local objects.\u001b[K\n",
      "To github.com:Republic1024/ColleageInfo.git\n",
      "   a47cfa7..f984453  main -> main\n",
      "Branch 'main' set up to track remote branch 'main' from 'origin'.\n"
     ]
    }
   ],
   "source": [
    "!git add .\n",
    "!git commit -m \"first commit\"\n",
    "!git push -u origin main"
   ]
  }
 ],
 "metadata": {
  "kernelspec": {
   "display_name": "Python 3.9.13 ('image_processing_2022')",
   "language": "python",
   "name": "python3"
  },
  "language_info": {
   "codemirror_mode": {
    "name": "ipython",
    "version": 3
   },
   "file_extension": ".py",
   "mimetype": "text/x-python",
   "name": "python",
   "nbconvert_exporter": "python",
   "pygments_lexer": "ipython3",
   "version": "3.9.13"
  },
  "orig_nbformat": 4,
  "vscode": {
   "interpreter": {
    "hash": "f28302999f76678ff88a38a68a5d8fe3c7eae3a79776041100a48b41199f2d76"
   }
  }
 },
 "nbformat": 4,
 "nbformat_minor": 2
}
