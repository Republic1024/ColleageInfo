{
 "cells": [
  {
   "cell_type": "code",
   "execution_count": 2,
   "metadata": {},
   "outputs": [
    {
     "name": "stdout",
     "output_type": "stream",
     "text": [
      "[main 88f4aaf] first commit\n",
      " 2 files changed, 0 insertions(+), 0 deletions(-)\n",
      " rename \"\\346\\225\\260\\346\\215\\256\\345\\244\\204\\347\\220\\206/process_data copy.ipynb\" => \"\\346\\225\\260\\346\\215\\256\\345\\244\\204\\347\\220\\206/\\347\\273\\217\\346\\265\\216\\345\\255\\246\\345\\275\\225\\345\\217\\226\\347\\272\\277\\345\\210\\206\\346\\236\\220.ipynb\" (100%)\n",
      " rename \"\\346\\225\\260\\346\\215\\256\\345\\244\\204\\347\\220\\206/process_data.ipynb\" => \"\\346\\225\\260\\346\\215\\256\\345\\244\\204\\347\\220\\206/\\350\\256\\241\\347\\256\\227\\346\\234\\272\\345\\275\\225\\345\\217\\226\\347\\272\\277\\345\\210\\206\\346\\236\\220.ipynb\" (100%)\n",
      "Enumerating objects: 5, done.\n",
      "Counting objects: 100% (5/5), done.\n",
      "Delta compression using up to 8 threads\n",
      "Compressing objects: 100% (3/3), done.\n",
      "Writing objects: 100% (3/3), 387 bytes | 387.00 KiB/s, done.\n",
      "Total 3 (delta 2), reused 0 (delta 0), pack-reused 0\n",
      "remote: Resolving deltas: 100% (2/2), completed with 2 local objects.\u001b[K\n",
      "To github.com:Republic1024/ColleageInfo.git\n",
      "   29c62a5..88f4aaf  main -> main\n",
      "Branch 'main' set up to track remote branch 'main' from 'origin'.\n"
     ]
    }
   ],
   "source": [
    "!git add .\n",
    "!git commit -m \"first commit\"\n",
    "!git push -u origin main"
   ]
  }
 ],
 "metadata": {
  "kernelspec": {
   "display_name": "Python 3.9.13 ('image_processing_2022')",
   "language": "python",
   "name": "python3"
  },
  "language_info": {
   "codemirror_mode": {
    "name": "ipython",
    "version": 3
   },
   "file_extension": ".py",
   "mimetype": "text/x-python",
   "name": "python",
   "nbconvert_exporter": "python",
   "pygments_lexer": "ipython3",
   "version": "3.9.13"
  },
  "orig_nbformat": 4,
  "vscode": {
   "interpreter": {
    "hash": "f28302999f76678ff88a38a68a5d8fe3c7eae3a79776041100a48b41199f2d76"
   }
  }
 },
 "nbformat": 4,
 "nbformat_minor": 2
}
