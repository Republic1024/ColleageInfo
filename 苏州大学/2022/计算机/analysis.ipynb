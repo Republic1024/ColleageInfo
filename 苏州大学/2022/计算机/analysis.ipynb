{
 "cells": [
  {
   "cell_type": "code",
   "execution_count": 92,
   "metadata": {},
   "outputs": [],
   "source": [
    "import pandas as pd"
   ]
  },
  {
   "cell_type": "code",
   "execution_count": 112,
   "metadata": {},
   "outputs": [
    {
     "data": {
      "text/plain": [
       "Index(['序号', 'Unnamed: 1', '拟录取专业代码', '拟录取专业名称', '考生编号', '姓名', '考试类别', '学位类别',\n",
       "       '学习方式', '录取类别', '初试总成绩 (A)', '复试总成绩 (B)', '总成绩\\n(A+B)'],\n",
       "      dtype='object')"
      ]
     },
     "execution_count": 112,
     "metadata": {},
     "output_type": "execute_result"
    }
   ],
   "source": [
    "from dis import findlinestarts\n",
    "\n",
    "def firstLineTo(df:pd.DataFrame):\n",
    "    return pd.DataFrame(df.values[1:])\n",
    "\n",
    "df = pd.read_excel(\"2022年硕士研究生招生拟录取名单公示.xlsx\")\n",
    "df_1 = pd.read_excel(\"2022计算机报考人数.xlsx\")\n",
    "df_2 = firstLineTo(df_1)\n",
    "df_2[3].sum()\n",
    "df.columns"
   ]
  },
  {
   "cell_type": "code",
   "execution_count": 94,
   "metadata": {},
   "outputs": [],
   "source": [
    "# df =df[df['拟录取专业名称']=='计算机科学与技术']"
   ]
  },
  {
   "cell_type": "code",
   "execution_count": 95,
   "metadata": {},
   "outputs": [
    {
     "data": {
      "text/plain": [
       "219"
      ]
     },
     "execution_count": 95,
     "metadata": {},
     "output_type": "execute_result"
    }
   ],
   "source": [
    "df_3 = df.groupby(by='拟录取专业名称').count()\n",
    "df_3.sort_index()['序号'].sum()"
   ]
  },
  {
   "cell_type": "code",
   "execution_count": 96,
   "metadata": {},
   "outputs": [
    {
     "data": {
      "text/plain": [
       "0.22483940042826553"
      ]
     },
     "execution_count": 96,
     "metadata": {},
     "output_type": "execute_result"
    }
   ],
   "source": [
    "210/934"
   ]
  },
  {
   "cell_type": "code",
   "execution_count": 116,
   "metadata": {},
   "outputs": [
    {
     "name": "stdout",
     "output_type": "stream",
     "text": [
      "142\n"
     ]
    },
    {
     "data": {
      "text/plain": [
       "count           141\n",
       "unique           74\n",
       "top       初试总成绩 (A)\n",
       "freq              8\n",
       "Name: 初试总成绩 (A), dtype: object"
      ]
     },
     "execution_count": 116,
     "metadata": {},
     "output_type": "execute_result"
    }
   ],
   "source": [
    "df_3 = df.dropna(subset=['初试总成绩 (A)'],inplace = False)\n",
    "print(len(df_3))\n",
    "df_3 = df_3[1:]\n",
    "df_3['初试总成绩 (A)'].describe()"
   ]
  }
 ],
 "metadata": {
  "kernelspec": {
   "display_name": "Python 3.9.13 ('image_processing_2022')",
   "language": "python",
   "name": "python3"
  },
  "language_info": {
   "codemirror_mode": {
    "name": "ipython",
    "version": 3
   },
   "file_extension": ".py",
   "mimetype": "text/x-python",
   "name": "python",
   "nbconvert_exporter": "python",
   "pygments_lexer": "ipython3",
   "version": "3.9.13"
  },
  "orig_nbformat": 4,
  "vscode": {
   "interpreter": {
    "hash": "f28302999f76678ff88a38a68a5d8fe3c7eae3a79776041100a48b41199f2d76"
   }
  }
 },
 "nbformat": 4,
 "nbformat_minor": 2
}
